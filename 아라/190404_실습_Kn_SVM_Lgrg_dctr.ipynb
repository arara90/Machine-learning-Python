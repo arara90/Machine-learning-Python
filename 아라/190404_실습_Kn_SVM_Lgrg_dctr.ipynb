{
  "nbformat": 4,
  "nbformat_minor": 0,
  "metadata": {
    "colab": {
      "name": "190404 실습.ipynb",
      "version": "0.3.2",
      "provenance": [],
      "collapsed_sections": []
    },
    "kernelspec": {
      "name": "python3",
      "display_name": "Python 3"
    }
  },
  "cells": [
    {
      "metadata": {
        "id": "khK-rFQ7MN5B",
        "colab_type": "code",
        "colab": {}
      },
      "cell_type": "code",
      "source": [
        "from sklearn import neighbors, datasets\n",
        "import numpy as np\n",
        "import pandas as pd\n",
        "import matplotlib.pyplot as plt\n",
        "from sklearn.model_selection import train_test_split\n",
        "\n",
        "#metrics 분류 성능 측청 지표 \n",
        "#https://bcho.tistory.com/1206?category=555440\n",
        "from sklearn import metrics\n",
        "from sklearn.svm import SVC\n",
        "from sklearn.tree import DecisionTreeClassifier\n",
        "from sklearn.linear_model import LogisticRegression\n"
      ],
      "execution_count": 0,
      "outputs": []
    },
    {
      "metadata": {
        "id": "mzoXYpkqcEa0",
        "colab_type": "code",
        "colab": {}
      },
      "cell_type": "code",
      "source": [
        "data = datasets.load_breast_cancer()\n",
        "#data"
      ],
      "execution_count": 0,
      "outputs": []
    },
    {
      "metadata": {
        "id": "UX5u4J73N8Zr",
        "colab_type": "text"
      },
      "cell_type": "markdown",
      "source": [
        "입출력 데이터 설정"
      ]
    },
    {
      "metadata": {
        "id": "DNYGdSK9MW2v",
        "colab_type": "code",
        "colab": {}
      },
      "cell_type": "code",
      "source": [
        "x = data.data\n",
        "y = data.target"
      ],
      "execution_count": 0,
      "outputs": []
    },
    {
      "metadata": {
        "id": "aock5lHrN7TG",
        "colab_type": "text"
      },
      "cell_type": "markdown",
      "source": [
        "데이터 훈련셋과 테스트셋으로 나누기"
      ]
    },
    {
      "metadata": {
        "id": "28mU9oRwMtzF",
        "colab_type": "code",
        "colab": {}
      },
      "cell_type": "code",
      "source": [
        "xtrain,xtest,ytrain,ytest = train_test_split(x,y,test_size=0.25,random_state = 0)"
      ],
      "execution_count": 0,
      "outputs": []
    },
    {
      "metadata": {
        "id": "qo5NwcdKN7vT",
        "colab_type": "text"
      },
      "cell_type": "markdown",
      "source": [
        "#1. KNeighborsClassifier 모델 생성 후 fit."
      ]
    },
    {
      "metadata": {
        "id": "neJzOL_uMz-F",
        "colab_type": "code",
        "colab": {}
      },
      "cell_type": "code",
      "source": [
        "k=6\n",
        "KN = neighbors.KNeighborsClassifier(k,weights='distance').fit(xtrain,ytrain)\n",
        "KNResult = KN.predict(xtest)\n",
        "#모델 정확성 평가\n",
        "metrics.accuracy_score(ytest,KNResult)\n",
        "\n",
        "\n",
        "k=2\n",
        "KN2 = neighbors.KNeighborsClassifier(k,weights='distance').fit(xtrain,ytrain)\n",
        "KNResult2 = KN2.predict(xtest)\n",
        "#모델 정확성 평가\n",
        "metrics.accuracy_score(ytest,KNResult2)"
      ],
      "execution_count": 0,
      "outputs": []
    },
    {
      "metadata": {
        "id": "6ZPmSAEUONKs",
        "colab_type": "text"
      },
      "cell_type": "markdown",
      "source": [
        "#2. SVM 모델 만든 후 fit"
      ]
    },
    {
      "metadata": {
        "id": "1f57zIEEN12F",
        "colab_type": "code",
        "colab": {
          "base_uri": "https://localhost:8080/",
          "height": 35
        },
        "outputId": "4b50a7e4-75c1-45f0-f2bd-5643c374de4f"
      },
      "cell_type": "code",
      "source": [
        "#선형\n",
        "SVM = SVC(kernel='linear').fit(xtrain,ytrain)\n",
        "SVMResult = SVM.predict(xtest)\n",
        "#모델 정확성 평가\n",
        "print(metrics.accuracy_score(ytest,SVMResult))\n"
      ],
      "execution_count": 5,
      "outputs": [
        {
          "output_type": "stream",
          "text": [
            "0.958041958041958\n"
          ],
          "name": "stdout"
        }
      ]
    },
    {
      "metadata": {
        "id": "2UF7-J6LhqiM",
        "colab_type": "text"
      },
      "cell_type": "markdown",
      "source": [
        "###비선형으로 해보기 (속도 엄청느리니 결과만 참고)"
      ]
    },
    {
      "metadata": {
        "id": "rjpuUwTBd6tO",
        "colab_type": "code",
        "colab": {
          "base_uri": "https://localhost:8080/",
          "height": 35
        },
        "outputId": "1b75bec3-92e7-42a9-e580-ae6590ce44b2"
      },
      "cell_type": "code",
      "source": [
        "SVM2 = SVC(kernel='poly',degree=2,gamma=1, C=1).fit(xtrain,ytrain)\n",
        "SVMResult2 = SVM2.predict(xtest)\n",
        "#0.9300699300699301\n",
        "print(metrics.accuracy_score(ytest,SVMResult2)\n"
      ],
      "execution_count": 0,
      "outputs": [
        {
          "output_type": "stream",
          "text": [
            "0.9300699300699301\n"
          ],
          "name": "stdout"
        }
      ]
    },
    {
      "metadata": {
        "id": "e6ktw9NfQ2Ep",
        "colab_type": "text"
      },
      "cell_type": "markdown",
      "source": [
        "#3. 의사결정분류기 모델 생성후 fit"
      ]
    },
    {
      "metadata": {
        "id": "1ZDmo5-kPO-L",
        "colab_type": "code",
        "colab": {}
      },
      "cell_type": "code",
      "source": [
        "dstClf = DecisionTreeClassifier()\n",
        "dstClf.fit(xtrain, ytrain)\n",
        "dstClfResult = dstClf.predict(xtest)\n",
        "\n",
        "#모델 정확성 평가\n",
        "metrics.accuracy_score(ytest,dstClfResult)"
      ],
      "execution_count": 0,
      "outputs": []
    },
    {
      "metadata": {
        "id": "T0xhP8rxQ_bQ",
        "colab_type": "text"
      },
      "cell_type": "markdown",
      "source": [
        "#4. 로지스틱 회귀 모델 생성 후 fit"
      ]
    },
    {
      "metadata": {
        "id": "Rt_sukS3PquM",
        "colab_type": "code",
        "colab": {}
      },
      "cell_type": "code",
      "source": [
        "log = LogisticRegression().fit(xtrain,ytrain)\n",
        "logReslut = log.predict(xtest)\n",
        "#모델 정확성 평가\n",
        "metrics.accuracy_score(ytest,logReslut)"
      ],
      "execution_count": 0,
      "outputs": []
    },
    {
      "metadata": {
        "id": "AYDOsANqQpBS",
        "colab_type": "text"
      },
      "cell_type": "markdown",
      "source": [
        "#4가지 방식 비교.\n",
        "- KNeighborsClassifier\n",
        "- SVM\n",
        "- DecisionTree\n",
        "- LogisticRegression\n"
      ]
    },
    {
      "metadata": {
        "id": "AA3rucaVQjQ6",
        "colab_type": "code",
        "colab": {}
      },
      "cell_type": "code",
      "source": [
        "print(\"KNeighborsClassifier : \" , metrics.accuracy_score(ytest,KNResult))\n",
        "print(\"SVM                  : \" , metrics.accuracy_score(ytest,SVMResult))\n",
        "print(\"DecisionTree         : \" , metrics.accuracy_score(ytest,dstClfResult))\n",
        "print(\"LogisticRegression   : \" , metrics.accuracy_score(ytest,logReslut))"
      ],
      "execution_count": 0,
      "outputs": []
    },
    {
      "metadata": {
        "id": "OySCw2w7QoCi",
        "colab_type": "code",
        "colab": {}
      },
      "cell_type": "code",
      "source": [
        ""
      ],
      "execution_count": 0,
      "outputs": []
    }
  ]
}