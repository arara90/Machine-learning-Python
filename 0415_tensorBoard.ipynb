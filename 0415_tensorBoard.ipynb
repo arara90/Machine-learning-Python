{
  "nbformat": 4,
  "nbformat_minor": 0,
  "metadata": {
    "colab": {
      "name": "0409_tensorBoard.ipynb",
      "version": "0.3.2",
      "provenance": [],
      "include_colab_link": true
    },
    "kernelspec": {
      "name": "python3",
      "display_name": "Python 3"
    }
  },
  "cells": [
    {
      "cell_type": "markdown",
      "metadata": {
        "id": "view-in-github",
        "colab_type": "text"
      },
      "source": [
        "<a href=\"https://colab.research.google.com/github/arara90/Python-Machine-learning/blob/master/0415_tensorBoard.ipynb\" target=\"_parent\"><img src=\"https://colab.research.google.com/assets/colab-badge.svg\" alt=\"Open In Colab\"/></a>"
      ]
    },
    {
      "metadata": {
        "id": "cfjk1uzQBvoD",
        "colab_type": "code",
        "colab": {}
      },
      "cell_type": "code",
      "source": [
        "import tensorflow as tf\n",
        "\n",
        "a = tf.constant(3.0, dtype=tf.float32)\n",
        "b = tf.constant(4.0) \n",
        "total = a + b"
      ],
      "execution_count": 0,
      "outputs": []
    },
    {
      "metadata": {
        "id": "yV4rc36jB2Mg",
        "colab_type": "code",
        "outputId": "9b090c88-8451-4c3e-9ddc-5cf50e52e8dc",
        "colab": {
          "base_uri": "https://localhost:8080/",
          "height": 89
        }
      },
      "cell_type": "code",
      "source": [
        "from tensorboardcolab import * \n",
        "tbc = TensorBoardColab() # To create a tensorboardcolab object it will automatically creat a link\n",
        "writer = tbc.get_writer() # To create a FileWriter\n",
        "writer.add_graph(tf.get_default_graph()) # add the graph \n",
        "writer.flush()"
      ],
      "execution_count": 0,
      "outputs": [
        {
          "output_type": "stream",
          "text": [
            "Using TensorFlow backend.\n"
          ],
          "name": "stderr"
        },
        {
          "output_type": "stream",
          "text": [
            "Wait for 8 seconds...\n",
            "TensorBoard link:\n",
            "https://d248b38d.ngrok.io\n"
          ],
          "name": "stdout"
        }
      ]
    }
  ]
}