{
  "nbformat": 4,
  "nbformat_minor": 0,
  "metadata": {
    "colab": {
      "name": "ch4_모델훈련_선형회귀.ipynb",
      "version": "0.3.2",
      "provenance": [],
      "include_colab_link": true
    },
    "kernelspec": {
      "name": "python3",
      "display_name": "Python 3"
    }
  },
  "cells": [
    {
      "cell_type": "markdown",
      "metadata": {
        "id": "view-in-github",
        "colab_type": "text"
      },
      "source": [
        "<a href=\"https://colab.research.google.com/github/arara90/Python-Machine-learning/blob/master/190407_ch4_%EB%AA%A8%EB%8D%B8%ED%9B%88%EB%A0%A8_%EC%84%A0%ED%98%95%ED%9A%8C%EA%B7%80.ipynb\" target=\"_parent\"><img src=\"https://colab.research.google.com/assets/colab-badge.svg\" alt=\"Open In Colab\"/></a>"
      ]
    },
    {
      "metadata": {
        "id": "xxGQV1uav3Gk",
        "colab_type": "text"
      },
      "cell_type": "markdown",
      "source": [
        "### 1. 선형 회귀\n",
        "### 2. 경사 하강법 : 반복적 최적화 방법\n",
        "1. 배치 경사 하강법\n",
        "2. 확률적 경사 하강법\n",
        "3. 미니배치 경사 하강법\n",
        "\n",
        "### 3. 다항 회귀\n",
        "### 4. 학습 곡선\n",
        "\n",
        "---\n",
        "\n",
        "### 5. 규제가 있는 선형 모델\n",
        "1. 릿지 회귀\n",
        "2. 라쏘 회귀\n",
        "3. 엘라스틱넷\n",
        "4. 조기 종료\n",
        "\n",
        "### 6. 로지스틱 회귀\n",
        "1. 확률 추정\n",
        "2. 훈련과 비용함수\n",
        "3. 소프트 맥스 회귀\n",
        "4. 소프트 맥스 회귀"
      ]
    },
    {
      "metadata": {
        "id": "Pf8Nhn_Xx6pl",
        "colab_type": "text"
      },
      "cell_type": "markdown",
      "source": [
        "#1. 선형 회귀\n",
        "\n",
        "#### 선형회귀와 다항회귀\n",
        "* 선형 회귀 훈련 모델\n",
        "> 1. **공식** 사용하여 훈련 세트에 가장 잘 맞는 모델 파라미터를 해석적으로 구함(바로 결과 얻을 수 있는 수학 공식) -> 정규 방정식\n",
        "> 2. **경사하강법(GD)** 반복적인 최적화 방식 사용하여 모델 파라미터를 조금씩 바꾸면서 구함.\n",
        "\n",
        "\n",
        "## 4.1 선형 회귀\n",
        "\n",
        ">>> ![식 4-1](https://github.com/arara90/Python-Machine-learning/blob/master/%EC%95%84%EB%9D%BC/img/Study_ch4/4_1_%EC%84%A0%ED%98%95%ED%9A%8C%EA%B7%80.png?raw=true)\n",
        "\n",
        "> 특성의 가중치 합과 편향(절편, bias)이라는 상수를 더해 예측값(y)를 구한다.\n",
        "2\n",
        ">>> ![식 4-2](https://github.com/arara90/Python-Machine-learning/blob/master/%EC%95%84%EB%9D%BC/img/Study_ch4/4_2.png?raw=true)\n",
        "\n",
        ">> * 전치 행렬 (X)^T\n",
        "\n",
        ">>> ![전치행렬](https://github.com/arara90/Python-Machine-learning/blob/master/%EC%95%84%EB%9D%BC/img/Study_ch4/4_2_%EC%A0%84%EC%B9%98%ED%96%89%EB%A0%AC.png?raw=true)\n",
        "\n",
        ">> * Dot Product\n",
        ">>> ![점곱](https://algebra1course.files.wordpress.com/2013/02/slide10.jpg)\n",
        "\n",
        ">> * **모델 훈련**이란?\n",
        "2장에서 회귀에 가장 널리 사용되는 성능 측정 지표는 평균 제곱근 오차(RMSE)라고 했음\n",
        "따라서, **선형 회귀 모델을 훈련시키는 것은 RMSE를 최소화하는 θ를 찾는 것**.\n",
        "실제로는 MSE를 최소화하는 것이 같은 결과를 낸다 \n",
        "*이탤릭체 텍스트*\n",
        "\n",
        "### 4.1.1 정규방정식\n",
        " > 비용 함수를 최소화 하는 다음의  θ를 찾는 것.\n",
        " \n",
        " > ![정규방정식](https://github.com/arara90/Python-Machine-learning/blob/master/%EC%95%84%EB%9D%BC/img/Study_ch4/4_4_%EC%A0%95%EA%B7%9C%EB%B0%A9%EC%A0%95%EC%8B%9D.png?raw=true)\n",
        " \n",
        " ### 4.1.2 계산복잡도\n",
        "> (X)^T · X 의 역행렬을 계산하는 정규 방정식의 계산 복잡도는 -> O(n^2.4) ~ O(n^3) 사이 \n",
        ">> 즉, 특성 수가 두배로 늘어나면 계산 시간이 5.3~8배로 늘어남\n",
        "\n",
        " ### 4.1.2 실습"
      ]
    },
    {
      "metadata": {
        "id": "Rs2RIMK067s8",
        "colab_type": "code",
        "colab": {
          "base_uri": "https://localhost:8080/",
          "height": 53
        },
        "outputId": "0e19a043-bd73-40ab-ff1c-f1ef12960eb0"
      },
      "cell_type": "code",
      "source": [
        "#1. 정규방정식으로 구하기\n",
        "\n",
        "import matplotlib.pyplot as plt\n",
        "import numpy as np\n",
        "\n",
        "# y = 3x + 4 + 가우시안 노이즈\n",
        "X= 2*np.random.rand(100,1)\n",
        "y = 4 + 3 * X + np.random.randn(100,1)\n",
        "  \n",
        "X_b = np.c_[np.ones((100,1)), X] #모든 샘플에 x0 = 1 추가\n",
        "theta_best = np.linalg.inv(X_b.T.dot(X_b)).dot(X_b.T).dot(y)\n",
        "print(theta_best)\n"
      ],
      "execution_count": 12,
      "outputs": [
        {
          "output_type": "stream",
          "text": [
            "[[4.2775251 ]\n",
            " [2.80957942]]\n"
          ],
          "name": "stdout"
        }
      ]
    },
    {
      "metadata": {
        "id": "fs64L9t97WPH",
        "colab_type": "text"
      },
      "cell_type": "markdown",
      "source": [
        "#### 실제 함수는 y = 4x + 3x + 가우시안_노이즈이다. but, 기대 값은 = 4, 3\n",
        "#### 다음은 theata_best를 이용해서 예측"
      ]
    },
    {
      "metadata": {
        "id": "Cw6C6Iim7fjT",
        "colab_type": "code",
        "colab": {
          "base_uri": "https://localhost:8080/",
          "height": 53
        },
        "outputId": "af685b7f-03f5-46de-b081-f54dc3bf4e97"
      },
      "cell_type": "code",
      "source": [
        "X_new = np.array([[0],[2]])\n",
        "X_new_b = np.c_[np.ones((2,1)), X_new]\n",
        "# np.c_[a,b] -> 배열 a,b 옆으로 붙이기 https://rfriend.tistory.com/352 \n",
        "print(X_new_b)"
      ],
      "execution_count": 6,
      "outputs": [
        {
          "output_type": "stream",
          "text": [
            "[[1. 0.]\n",
            " [1. 2.]]\n"
          ],
          "name": "stdout"
        }
      ]
    },
    {
      "metadata": {
        "id": "h9pYsuw27hx-",
        "colab_type": "code",
        "colab": {
          "base_uri": "https://localhost:8080/",
          "height": 53
        },
        "outputId": "1e4f7c93-7db3-4dfc-b5ef-3bea4955053e"
      },
      "cell_type": "code",
      "source": [
        "y_pre = X_new_b.dot(theta_best)\n",
        "y_pre"
      ],
      "execution_count": 23,
      "outputs": [
        {
          "output_type": "execute_result",
          "data": {
            "text/plain": [
              "array([[4.2775251 ],\n",
              "       [9.89668395]])"
            ]
          },
          "metadata": {
            "tags": []
          },
          "execution_count": 23
        }
      ]
    },
    {
      "metadata": {
        "id": "T1a6z1vJ7m3J",
        "colab_type": "code",
        "colab": {
          "base_uri": "https://localhost:8080/",
          "height": 347
        },
        "outputId": "d8f8e1f0-3ab6-413f-b4dc-ed065a23f215"
      },
      "cell_type": "code",
      "source": [
        "plt.plot(X_new, y_pre, \"r-\")\n",
        "plt.plot(X,y,\"b.\")\n",
        "plt.axis([0,2,0,15])\n",
        "plt.show()"
      ],
      "execution_count": 15,
      "outputs": [
        {
          "output_type": "display_data",
          "data": {
            "image/png": "[encoded data removed]",
            "text/plain": [
              "<Figure size 576x396 with 1 Axes>"
            ]
          },
          "metadata": {
            "tags": []
          }
        }
      ]
    },
    {
      "metadata": {
        "id": "kUowtZb4-lIR",
        "colab_type": "text"
      },
      "cell_type": "markdown",
      "source": [
        "###2. 사이킷런으로 구하기"
      ]
    },
    {
      "metadata": {
        "id": "KbVri4Tc-zW_",
        "colab_type": "code",
        "colab": {
          "base_uri": "https://localhost:8080/",
          "height": 35
        },
        "outputId": "059840a5-e10c-4ce2-c8a6-a964a46f61b3"
      },
      "cell_type": "code",
      "source": [
        "from sklearn.linear_model import LinearRegression\n",
        "lin_reg = LinearRegression()\n",
        "lin_reg.fit(X,y)\n",
        "lin_reg.intercept_, lin_reg.coef_"
      ],
      "execution_count": 19,
      "outputs": [
        {
          "output_type": "execute_result",
          "data": {
            "text/plain": [
              "(array([4.2775251]), array([[2.80957942]]))"
            ]
          },
          "metadata": {
            "tags": []
          },
          "execution_count": 19
        }
      ]
    },
    {
      "metadata": {
        "id": "ALzz3Enk-1WN",
        "colab_type": "code",
        "colab": {
          "base_uri": "https://localhost:8080/",
          "height": 53
        },
        "outputId": "7da8d628-7b07-468f-bf7e-02de38490d6e"
      },
      "cell_type": "code",
      "source": [
        "lin_reg.predict(X_new)"
      ],
      "execution_count": 20,
      "outputs": [
        {
          "output_type": "execute_result",
          "data": {
            "text/plain": [
              "array([[4.2775251 ],\n",
              "       [9.89668395]])"
            ]
          },
          "metadata": {
            "tags": []
          },
          "execution_count": 20
        }
      ]
    },
    {
      "metadata": {
        "id": "UyhJCZi9Amxt",
        "colab_type": "text"
      },
      "cell_type": "markdown",
      "source": [
        "#2. 경사 하강법(Gradient Descent)\n",
        "\n",
        "참고사이트\n",
        "> 1. https://seamless.tistory.com/38\n",
        "> 2. https://developers.google.com/machine-learning/crash-course/reducing-loss/an-iterative-approach?hl=ko\n",
        "\n",
        "\n",
        "* 경사 하강법? \n",
        "비용 함수를 최소화하기 위해 반복해서 파라미터를 조정해 가는 것.\n",
        "> * 임의의 값으로 시작 => 무작위 초기화\n",
        "> *  MSE가 감소되는 방향으로 진행하여, 알고리즘이 최소값에 수렴할 때까지 점진적으로 향상\n",
        "\n",
        ">> ![경사하강](https://t1.daumcdn.net/cfile/tistory/99E6363359D86A8805)\n",
        "\n",
        "* 그래디언트(Gradient):   비용함수의 미분값. 0이될수록 좋음 (최소)\n",
        "\n",
        "* 학습률 : 스텝의 크기\n",
        "> * 학습률이 너무 작으면 알고리즘이 반복을 많이 수행 -> 느림\n",
        "> * 학습률이 너무 크면 골짜기를 가로지르는 상황 발생\n",
        "\n",
        "\n",
        "## 4.1 배치 경사 하강법\n",
        "> **4.1.1 배치 경사 하강법? ** 현 weight의 기울기(gradient)를 구하고, loss를 줄이는 방향으로 업데이터(조정)\n",
        ">> Loss function? 현재 가중치에서 \"틀린 정도\"를 알려주는 함수\n",
        "\n",
        "> 1. 현재 wight에서 내가 가진 데이터를 다 넣어주면? -> 전체 에러 계산 -> 미분한다 -> 에러 줄이는 방향을 알 수 있다.\n",
        "> 2. 해당 방향으로 정해진 스텝량(learning rate)을 곱해서 weight이동 -> 반복 학습\n",
        "\n",
        ">> ![weight의 업데이트](https://t1.daumcdn.net/cfile/tistory/99EC803359D86AF115)\n",
        "\n",
        "> * **단점** :  매스텝 전체 훈련 세트를 사용해 그레디언트를 계산 -> 느리다.\n",
        ">* **장점** : 특성의 수에는 그다지 민감하지 않아, 특성이 많은 데이터에 유리함.\n",
        "\n",
        "> 경험적으로 전 set가 아닌 일부 예시에서만 구한 결과가 대체로 잘 맞는다는 것을 알게되었음.\n",
        " \n",
        " >> -> 확률적 경사 하강법,  미니 배체 경사 하강법\n",
        "\n",
        "## 4.2 확률적 경사 하강법(SGD)\n",
        "> **4.2.1 확률적 경사 하강법? ** 매 스텝에서 딱 한개의 샘플을 무작위로 선택하고, 그 하나의 샘플에 대한 Gradient를 계산\n",
        ">> 배치보다 불안정하지만 무작위로 값이 움직이기 때문에 지역 최소값을 벗어나고, 전역 최소값을 찾을 가능성이 높다.\n",
        ">> 하지만, 정확한 전역 최소값에 다다르기는 힘들다.\n",
        ">>> * 첫 시작에 학습률은 높게하고, 점점 학습률을 낮추면 효과적으로 구할 수 있다.\n",
        ">>> * **학습 스케쥴** : 매 반복에서 학습률을 결정하는 함수\n",
        ">>> * **에포크 (epoch) **: 훈련세트 전체가 한차례 반복되는 단위 ( 2번 돌면 2 epoch)\n",
        ">>> * 에포크 사이에 훈련 세트를 섞는 작업을 추가하면 이미 한 번 선택된 샘플이 재선택되는 것을 피할 수 있다.\n",
        "\n",
        "## 4.3 미니 배치 확률적 경사 하강법\n",
        "> **4.3.1 미니 배치 확률적 경사 하강법? ** 미니 배치라고 불리는 임의의 작은(10~1000개)의 데이터 세트에 대해 계산\n",
        ">>  확률적 경사하강법의 노이즈는 줄이고, 배치 경사하강법 보다는 효율적.\n",
        ">> 미니 배치의 크기가 크면? 전역 최소값에 더 가까이 도달하지만, 지역 최소값에서 빠져나오기는 더 힘듦.\n",
        "\n",
        "\n",
        "\n",
        "![알고리즘비교](https://github.com/arara90/Python-Machine-learning/blob/master/%EC%95%84%EB%9D%BC/img/Study_ch4/4_7.png?raw=true)\n",
        "> m: 샘플수 / n : 특성수 / 하이퍼 파라미터 "
      ]
    }
  ]
}