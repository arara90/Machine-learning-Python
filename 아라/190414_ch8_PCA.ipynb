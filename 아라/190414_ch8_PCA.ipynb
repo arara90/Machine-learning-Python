{
  "nbformat": 4,
  "nbformat_minor": 0,
  "metadata": {
    "colab": {
      "name": "PCA.ipynb",
      "version": "0.3.2",
      "provenance": [],
      "include_colab_link": true
    },
    "kernelspec": {
      "name": "python3",
      "display_name": "Python 3"
    }
  },
  "cells": [
    {
      "cell_type": "markdown",
      "metadata": {
        "id": "view-in-github",
        "colab_type": "text"
      },
      "source": [
        "<a href=\"https://colab.research.google.com/github/arara90/Python-Machine-learning/blob/master/PCA.ipynb\" target=\"_parent\"><img src=\"https://colab.research.google.com/assets/colab-badge.svg\" alt=\"Open In Colab\"/></a>"
      ]
    },
    {
      "metadata": {
        "id": "961ayNBkAy8U",
        "colab_type": "text"
      },
      "cell_type": "markdown",
      "source": [
        "# PCA\n",
        "\n",
        "1. PCA에 적용할 수 있는 데이터를 만드는 법\n",
        "2. sklearn의 PCA 함수 사용하기\n",
        "3.  각각의 principal component가 차지하는 변형이 얼마나 되는지 결정한다.\n",
        "4. matplotlib을 사용하여 PCA 그래프 그리기.\n",
        "5. 어떤 변수가 그래프에 가장 큰 영향을 미칠지 결정하기 위해 loading scores 살펴보기"
      ]
    },
    {
      "metadata": {
        "id": "wtC4H7UsDWyI",
        "colab_type": "code",
        "colab": {}
      },
      "cell_type": "code",
      "source": [
        "import pandas as pd\n",
        "import numpy as np\n",
        "import random as rd\n",
        "from sklearn.decomposition import PCA\n",
        "from sklearn import preprocessing\n",
        "import matplotlib.pyplot as plt\n"
      ],
      "execution_count": 0,
      "outputs": []
    },
    {
      "metadata": {
        "id": "FVuGW6NOD__7",
        "colab_type": "text"
      },
      "cell_type": "markdown",
      "source": [
        "## 1. 데이터셋 만들기"
      ]
    },
    {
      "metadata": {
        "id": "23gYRPGdDyMS",
        "colab_type": "code",
        "outputId": "9840dbd2-d38a-4a33-95c8-1f2da3b57e9d",
        "colab": {
          "base_uri": "https://localhost:8080/",
          "height": 35
        }
      },
      "cell_type": "code",
      "source": [
        "genes = ['gene' + str(i) for i in range(1,101)]\n",
        "\n",
        "wt = ['wt'  + str(i) for i in range(1,6)] # wild type (1,2,3,4,5)\n",
        "ko = ['ko'  + str(i) for i in range(1,6)] # knock out\n",
        "\n",
        "#*는 array를 unpack해준다. 그래서 아래 코드는 wt와 ko를 1차원으로 쭉 붙여준 형태가 됨.\n",
        "data = pd.DataFrame(columns = [*wt, *ko], index = genes )\n",
        "\n",
        "data.shape, ex_Data.shape\n",
        "#ex_Data =  pd.DataFrame(columns = [wt, ko], index = genes )\n",
        "#data\n",
        "#ex_Data"
      ],
      "execution_count": 0,
      "outputs": [
        {
          "output_type": "execute_result",
          "data": {
            "text/plain": [
              "((100, 10), (100, 5))"
            ]
          },
          "metadata": {
            "tags": []
          },
          "execution_count": 29
        }
      ]
    },
    {
      "metadata": {
        "id": "yTFGdgYnFhdZ",
        "colab_type": "code",
        "outputId": "1482bf59-f19a-42e4-a2ee-af903a4330bd",
        "colab": {
          "base_uri": "https://localhost:8080/",
          "height": 143
        }
      },
      "cell_type": "code",
      "source": [
        "for gene in data.index:\n",
        "  data.loc[gene,'wt1':'wt5'] = np.random.poisson(lam = rd.randrange(10,1000), size = 5)\n",
        "  data.loc[gene,'ko1':'ko5'] = np.random.poisson(lam = rd.randrange(10,1000), size = 5) \n",
        "print(data.head())\n",
        "print(data.shape)"
      ],
      "execution_count": 0,
      "outputs": [
        {
          "output_type": "stream",
          "text": [
            "       wt1  wt2  wt3  wt4  wt5  ko1   ko2  ko3  ko4  ko5\n",
            "gene1  554  538  579  496  551  900   813  876  875  801\n",
            "gene2  390  346  384  361  356  429   454  435  430  450\n",
            "gene3  442  499  482  475  458  726   708  741  755  741\n",
            "gene4  475  428  425  443  402  606   572  598  572  605\n",
            "gene5  585  645  583  596  587  964  1045  948  920  916\n",
            "(100, 10)\n"
          ],
          "name": "stdout"
        }
      ]
    },
    {
      "metadata": {
        "id": "4zVsuk1oGRvY",
        "colab_type": "text"
      },
      "cell_type": "markdown",
      "source": [
        "## 2. 데이터 가운데로 모으고, 스케일링 하기\n",
        ">after  \n",
        ">  centering : 각각 gene에 대한 평균 값은 0  \n",
        ">  scaling : 표준 편차는 1"
      ]
    },
    {
      "metadata": {
        "id": "ceDVuGbbG6fn",
        "colab_type": "code",
        "outputId": "f378400f-1d2d-4fb2-b4ac-44f104bbb437",
        "colab": {
          "base_uri": "https://localhost:8080/",
          "height": 424
        }
      },
      "cell_type": "code",
      "source": [
        "scaled_data = preprocessing.scale(data.T) #data.T -> column이 아닌 rows로 바꿈 (scale 함수가 요구하는 대로)\n",
        "# StandardScaler().fit_transform(data.T) 같은 기능\n",
        "\n",
        "pca = PCA()\n",
        "pca.fit(scaled_data) # loading scores 와 분산을 계산함\n",
        "pca_data = pca.transform(scaled_data) # 그래프를 위한 좌표 생성 (loading Score와 scaled data에 대한)\n",
        "\n",
        "data.T"
      ],
      "execution_count": 0,
      "outputs": [
        {
          "output_type": "stream",
          "text": [
            "/usr/local/lib/python3.6/dist-packages/ipykernel_launcher.py:1: DataConversionWarning: Data with input dtype int64 were all converted to float64 by the scale function.\n",
            "  \"\"\"Entry point for launching an IPython kernel.\n"
          ],
          "name": "stderr"
        },
        {
          "output_type": "execute_result",
          "data": {
            "text/html": [
              "<div>\n",
              "<style scoped>\n",
              "    .dataframe tbody tr th:only-of-type {\n",
              "        vertical-align: middle;\n",
              "    }\n",
              "\n",
              "    .dataframe tbody tr th {\n",
              "        vertical-align: top;\n",
              "    }\n",
              "\n",
              "    .dataframe thead th {\n",
              "        text-align: right;\n",
              "    }\n",
              "</style>\n",
              "<table border=\"1\" class=\"dataframe\">\n",
              "  <thead>\n",
              "    <tr style=\"text-align: right;\">\n",
              "      <th></th>\n",
              "      <th>gene1</th>\n",
              "      <th>gene2</th>\n",
              "      <th>gene3</th>\n",
              "      <th>gene4</th>\n",
              "      <th>gene5</th>\n",
              "      <th>gene6</th>\n",
              "      <th>gene7</th>\n",
              "      <th>gene8</th>\n",
              "      <th>gene9</th>\n",
              "      <th>gene10</th>\n",
              "      <th>...</th>\n",
              "      <th>gene91</th>\n",
              "      <th>gene92</th>\n",
              "      <th>gene93</th>\n",
              "      <th>gene94</th>\n",
              "      <th>gene95</th>\n",
              "      <th>gene96</th>\n",
              "      <th>gene97</th>\n",
              "      <th>gene98</th>\n",
              "      <th>gene99</th>\n",
              "      <th>gene100</th>\n",
              "    </tr>\n",
              "  </thead>\n",
              "  <tbody>\n",
              "    <tr>\n",
              "      <th>wt1</th>\n",
              "      <td>554</td>\n",
              "      <td>390</td>\n",
              "      <td>442</td>\n",
              "      <td>475</td>\n",
              "      <td>585</td>\n",
              "      <td>600</td>\n",
              "      <td>41</td>\n",
              "      <td>935</td>\n",
              "      <td>742</td>\n",
              "      <td>271</td>\n",
              "      <td>...</td>\n",
              "      <td>772</td>\n",
              "      <td>756</td>\n",
              "      <td>984</td>\n",
              "      <td>274</td>\n",
              "      <td>74</td>\n",
              "      <td>770</td>\n",
              "      <td>477</td>\n",
              "      <td>315</td>\n",
              "      <td>161</td>\n",
              "      <td>742</td>\n",
              "    </tr>\n",
              "    <tr>\n",
              "      <th>wt2</th>\n",
              "      <td>538</td>\n",
              "      <td>346</td>\n",
              "      <td>499</td>\n",
              "      <td>428</td>\n",
              "      <td>645</td>\n",
              "      <td>625</td>\n",
              "      <td>37</td>\n",
              "      <td>1034</td>\n",
              "      <td>725</td>\n",
              "      <td>239</td>\n",
              "      <td>...</td>\n",
              "      <td>805</td>\n",
              "      <td>776</td>\n",
              "      <td>960</td>\n",
              "      <td>313</td>\n",
              "      <td>61</td>\n",
              "      <td>755</td>\n",
              "      <td>496</td>\n",
              "      <td>314</td>\n",
              "      <td>158</td>\n",
              "      <td>746</td>\n",
              "    </tr>\n",
              "    <tr>\n",
              "      <th>wt3</th>\n",
              "      <td>579</td>\n",
              "      <td>384</td>\n",
              "      <td>482</td>\n",
              "      <td>425</td>\n",
              "      <td>583</td>\n",
              "      <td>624</td>\n",
              "      <td>36</td>\n",
              "      <td>981</td>\n",
              "      <td>744</td>\n",
              "      <td>259</td>\n",
              "      <td>...</td>\n",
              "      <td>768</td>\n",
              "      <td>790</td>\n",
              "      <td>950</td>\n",
              "      <td>270</td>\n",
              "      <td>67</td>\n",
              "      <td>768</td>\n",
              "      <td>491</td>\n",
              "      <td>275</td>\n",
              "      <td>171</td>\n",
              "      <td>776</td>\n",
              "    </tr>\n",
              "    <tr>\n",
              "      <th>wt4</th>\n",
              "      <td>496</td>\n",
              "      <td>361</td>\n",
              "      <td>475</td>\n",
              "      <td>443</td>\n",
              "      <td>596</td>\n",
              "      <td>608</td>\n",
              "      <td>41</td>\n",
              "      <td>990</td>\n",
              "      <td>740</td>\n",
              "      <td>244</td>\n",
              "      <td>...</td>\n",
              "      <td>787</td>\n",
              "      <td>771</td>\n",
              "      <td>959</td>\n",
              "      <td>295</td>\n",
              "      <td>80</td>\n",
              "      <td>723</td>\n",
              "      <td>487</td>\n",
              "      <td>311</td>\n",
              "      <td>146</td>\n",
              "      <td>749</td>\n",
              "    </tr>\n",
              "    <tr>\n",
              "      <th>wt5</th>\n",
              "      <td>551</td>\n",
              "      <td>356</td>\n",
              "      <td>458</td>\n",
              "      <td>402</td>\n",
              "      <td>587</td>\n",
              "      <td>541</td>\n",
              "      <td>36</td>\n",
              "      <td>939</td>\n",
              "      <td>721</td>\n",
              "      <td>222</td>\n",
              "      <td>...</td>\n",
              "      <td>840</td>\n",
              "      <td>783</td>\n",
              "      <td>964</td>\n",
              "      <td>305</td>\n",
              "      <td>72</td>\n",
              "      <td>772</td>\n",
              "      <td>460</td>\n",
              "      <td>271</td>\n",
              "      <td>156</td>\n",
              "      <td>796</td>\n",
              "    </tr>\n",
              "    <tr>\n",
              "      <th>ko1</th>\n",
              "      <td>900</td>\n",
              "      <td>429</td>\n",
              "      <td>726</td>\n",
              "      <td>606</td>\n",
              "      <td>964</td>\n",
              "      <td>682</td>\n",
              "      <td>110</td>\n",
              "      <td>498</td>\n",
              "      <td>36</td>\n",
              "      <td>953</td>\n",
              "      <td>...</td>\n",
              "      <td>89</td>\n",
              "      <td>750</td>\n",
              "      <td>261</td>\n",
              "      <td>388</td>\n",
              "      <td>443</td>\n",
              "      <td>129</td>\n",
              "      <td>906</td>\n",
              "      <td>316</td>\n",
              "      <td>516</td>\n",
              "      <td>405</td>\n",
              "    </tr>\n",
              "    <tr>\n",
              "      <th>ko2</th>\n",
              "      <td>813</td>\n",
              "      <td>454</td>\n",
              "      <td>708</td>\n",
              "      <td>572</td>\n",
              "      <td>1045</td>\n",
              "      <td>695</td>\n",
              "      <td>121</td>\n",
              "      <td>485</td>\n",
              "      <td>28</td>\n",
              "      <td>919</td>\n",
              "      <td>...</td>\n",
              "      <td>112</td>\n",
              "      <td>766</td>\n",
              "      <td>230</td>\n",
              "      <td>393</td>\n",
              "      <td>473</td>\n",
              "      <td>125</td>\n",
              "      <td>875</td>\n",
              "      <td>299</td>\n",
              "      <td>558</td>\n",
              "      <td>396</td>\n",
              "    </tr>\n",
              "    <tr>\n",
              "      <th>ko3</th>\n",
              "      <td>876</td>\n",
              "      <td>435</td>\n",
              "      <td>741</td>\n",
              "      <td>598</td>\n",
              "      <td>948</td>\n",
              "      <td>692</td>\n",
              "      <td>119</td>\n",
              "      <td>521</td>\n",
              "      <td>40</td>\n",
              "      <td>940</td>\n",
              "      <td>...</td>\n",
              "      <td>99</td>\n",
              "      <td>716</td>\n",
              "      <td>277</td>\n",
              "      <td>395</td>\n",
              "      <td>469</td>\n",
              "      <td>128</td>\n",
              "      <td>878</td>\n",
              "      <td>304</td>\n",
              "      <td>558</td>\n",
              "      <td>410</td>\n",
              "    </tr>\n",
              "    <tr>\n",
              "      <th>ko4</th>\n",
              "      <td>875</td>\n",
              "      <td>430</td>\n",
              "      <td>755</td>\n",
              "      <td>572</td>\n",
              "      <td>920</td>\n",
              "      <td>724</td>\n",
              "      <td>131</td>\n",
              "      <td>473</td>\n",
              "      <td>30</td>\n",
              "      <td>997</td>\n",
              "      <td>...</td>\n",
              "      <td>114</td>\n",
              "      <td>712</td>\n",
              "      <td>259</td>\n",
              "      <td>420</td>\n",
              "      <td>465</td>\n",
              "      <td>140</td>\n",
              "      <td>830</td>\n",
              "      <td>359</td>\n",
              "      <td>565</td>\n",
              "      <td>435</td>\n",
              "    </tr>\n",
              "    <tr>\n",
              "      <th>ko5</th>\n",
              "      <td>801</td>\n",
              "      <td>450</td>\n",
              "      <td>741</td>\n",
              "      <td>605</td>\n",
              "      <td>916</td>\n",
              "      <td>791</td>\n",
              "      <td>136</td>\n",
              "      <td>471</td>\n",
              "      <td>25</td>\n",
              "      <td>960</td>\n",
              "      <td>...</td>\n",
              "      <td>92</td>\n",
              "      <td>713</td>\n",
              "      <td>240</td>\n",
              "      <td>384</td>\n",
              "      <td>449</td>\n",
              "      <td>127</td>\n",
              "      <td>895</td>\n",
              "      <td>276</td>\n",
              "      <td>570</td>\n",
              "      <td>371</td>\n",
              "    </tr>\n",
              "  </tbody>\n",
              "</table>\n",
              "<p>10 rows × 100 columns</p>\n",
              "</div>"
            ],
            "text/plain": [
              "     gene1  gene2  gene3  gene4  gene5  gene6  gene7  gene8  gene9  gene10  \\\n",
              "wt1    554    390    442    475    585    600     41    935    742     271   \n",
              "wt2    538    346    499    428    645    625     37   1034    725     239   \n",
              "wt3    579    384    482    425    583    624     36    981    744     259   \n",
              "wt4    496    361    475    443    596    608     41    990    740     244   \n",
              "wt5    551    356    458    402    587    541     36    939    721     222   \n",
              "ko1    900    429    726    606    964    682    110    498     36     953   \n",
              "ko2    813    454    708    572   1045    695    121    485     28     919   \n",
              "ko3    876    435    741    598    948    692    119    521     40     940   \n",
              "ko4    875    430    755    572    920    724    131    473     30     997   \n",
              "ko5    801    450    741    605    916    791    136    471     25     960   \n",
              "\n",
              "      ...     gene91  gene92  gene93  gene94  gene95  gene96  gene97  gene98  \\\n",
              "wt1   ...        772     756     984     274      74     770     477     315   \n",
              "wt2   ...        805     776     960     313      61     755     496     314   \n",
              "wt3   ...        768     790     950     270      67     768     491     275   \n",
              "wt4   ...        787     771     959     295      80     723     487     311   \n",
              "wt5   ...        840     783     964     305      72     772     460     271   \n",
              "ko1   ...         89     750     261     388     443     129     906     316   \n",
              "ko2   ...        112     766     230     393     473     125     875     299   \n",
              "ko3   ...         99     716     277     395     469     128     878     304   \n",
              "ko4   ...        114     712     259     420     465     140     830     359   \n",
              "ko5   ...         92     713     240     384     449     127     895     276   \n",
              "\n",
              "     gene99  gene100  \n",
              "wt1     161      742  \n",
              "wt2     158      746  \n",
              "wt3     171      776  \n",
              "wt4     146      749  \n",
              "wt5     156      796  \n",
              "ko1     516      405  \n",
              "ko2     558      396  \n",
              "ko3     558      410  \n",
              "ko4     565      435  \n",
              "ko5     570      371  \n",
              "\n",
              "[10 rows x 100 columns]"
            ]
          },
          "metadata": {
            "tags": []
          },
          "execution_count": 46
        }
      ]
    },
    {
      "metadata": {
        "id": "7awZRqqDHCiN",
        "colab_type": "text"
      },
      "cell_type": "markdown",
      "source": [
        "##3. Scree plot\n",
        "> PC별로  차지하는 퍼센트 확인하기"
      ]
    },
    {
      "metadata": {
        "id": "_4UMEQG8I3Dh",
        "colab_type": "code",
        "outputId": "07c61baa-a59b-4bb2-cb4f-2e93570ce108",
        "colab": {
          "base_uri": "https://localhost:8080/",
          "height": 295
        }
      },
      "cell_type": "code",
      "source": [
        "per_var = np.round(pca.explained_variance_ratio_* 100, decimals=1) #각각의 principal component가 차지하는 퍼센트 계산\n",
        "labels = ['PC' + str(x) for x in range(1, len(per_var) + 1 ) ]\n",
        "\n",
        "plt.bar(x=range(1, len(per_var) + 1), height = per_var, tick_label = labels)\n",
        "plt.ylabel('percentage of Explained variance')\n",
        "plt.xlabel('Principal Component')\n",
        "plt.title('Scree plot')\n",
        "plt.show()"
      ],
      "execution_count": 0,
      "outputs": [
        {
          "output_type": "display_data",
          "data": {
            "image/png": "[encoded data removed]",
            "text/plain": [
              "<Figure size 432x288 with 1 Axes>"
            ]
          },
          "metadata": {
            "tags": []
          }
        }
      ]
    },
    {
      "metadata": {
        "id": "0qj0TvgGMHlG",
        "colab_type": "text"
      },
      "cell_type": "markdown",
      "source": [
        ""
      ]
    },
    {
      "metadata": {
        "id": "_04p1JZuJ8vo",
        "colab_type": "text"
      },
      "cell_type": "markdown",
      "source": [
        "> 대부분의 variation이 첫번째 PC를 따르므로, PC1과 PC2를 사용하면 원본 데이터를 잘 표현할 수 있을 것!\n",
        "\n",
        "## 4. 3에서 확인한 내용을 바탕으로 PCA 그래프 그리기\n"
      ]
    },
    {
      "metadata": {
        "id": "TzMQ1HM7KW-s",
        "colab_type": "code",
        "outputId": "3f6755d2-7c46-46bb-8b9b-834271281d4a",
        "colab": {
          "base_uri": "https://localhost:8080/",
          "height": 204
        }
      },
      "cell_type": "code",
      "source": [
        "pca_df = pd.DataFrame(pca_data, index=[*wt,*ko], columns = labels)\n",
        "pca_df.head()"
      ],
      "execution_count": 0,
      "outputs": [
        {
          "output_type": "execute_result",
          "data": {
            "text/html": [
              "<div>\n",
              "<style scoped>\n",
              "    .dataframe tbody tr th:only-of-type {\n",
              "        vertical-align: middle;\n",
              "    }\n",
              "\n",
              "    .dataframe tbody tr th {\n",
              "        vertical-align: top;\n",
              "    }\n",
              "\n",
              "    .dataframe thead th {\n",
              "        text-align: right;\n",
              "    }\n",
              "</style>\n",
              "<table border=\"1\" class=\"dataframe\">\n",
              "  <thead>\n",
              "    <tr style=\"text-align: right;\">\n",
              "      <th></th>\n",
              "      <th>PC1</th>\n",
              "      <th>PC2</th>\n",
              "      <th>PC3</th>\n",
              "      <th>PC4</th>\n",
              "      <th>PC5</th>\n",
              "      <th>PC6</th>\n",
              "      <th>PC7</th>\n",
              "      <th>PC8</th>\n",
              "      <th>PC9</th>\n",
              "      <th>PC10</th>\n",
              "    </tr>\n",
              "  </thead>\n",
              "  <tbody>\n",
              "    <tr>\n",
              "      <th>wt1</th>\n",
              "      <td>9.061558</td>\n",
              "      <td>-1.238601</td>\n",
              "      <td>1.200520</td>\n",
              "      <td>3.398013</td>\n",
              "      <td>-0.099660</td>\n",
              "      <td>-1.076987</td>\n",
              "      <td>-0.444557</td>\n",
              "      <td>-0.162252</td>\n",
              "      <td>-0.065616</td>\n",
              "      <td>-2.869424e-15</td>\n",
              "    </tr>\n",
              "    <tr>\n",
              "      <th>wt2</th>\n",
              "      <td>9.368340</td>\n",
              "      <td>-2.016788</td>\n",
              "      <td>-1.639071</td>\n",
              "      <td>-1.116859</td>\n",
              "      <td>1.320534</td>\n",
              "      <td>-0.408825</td>\n",
              "      <td>0.853259</td>\n",
              "      <td>0.702766</td>\n",
              "      <td>-0.842858</td>\n",
              "      <td>-5.632367e-16</td>\n",
              "    </tr>\n",
              "    <tr>\n",
              "      <th>wt3</th>\n",
              "      <td>9.067209</td>\n",
              "      <td>-2.424317</td>\n",
              "      <td>-1.699114</td>\n",
              "      <td>-0.536109</td>\n",
              "      <td>-1.270998</td>\n",
              "      <td>0.995621</td>\n",
              "      <td>0.157821</td>\n",
              "      <td>-0.541584</td>\n",
              "      <td>0.920974</td>\n",
              "      <td>1.974622e-16</td>\n",
              "    </tr>\n",
              "    <tr>\n",
              "      <th>wt4</th>\n",
              "      <td>9.188027</td>\n",
              "      <td>1.840273</td>\n",
              "      <td>2.432344</td>\n",
              "      <td>-0.072838</td>\n",
              "      <td>0.477635</td>\n",
              "      <td>2.032376</td>\n",
              "      <td>-0.332892</td>\n",
              "      <td>0.467646</td>\n",
              "      <td>-0.192333</td>\n",
              "      <td>-5.041886e-16</td>\n",
              "    </tr>\n",
              "    <tr>\n",
              "      <th>wt5</th>\n",
              "      <td>9.889006</td>\n",
              "      <td>3.719010</td>\n",
              "      <td>-0.289633</td>\n",
              "      <td>-1.562849</td>\n",
              "      <td>-0.481887</td>\n",
              "      <td>-1.471575</td>\n",
              "      <td>-0.214616</td>\n",
              "      <td>-0.469610</td>\n",
              "      <td>0.171066</td>\n",
              "      <td>7.575777e-16</td>\n",
              "    </tr>\n",
              "  </tbody>\n",
              "</table>\n",
              "</div>"
            ],
            "text/plain": [
              "          PC1       PC2       PC3       PC4       PC5       PC6       PC7  \\\n",
              "wt1  9.061558 -1.238601  1.200520  3.398013 -0.099660 -1.076987 -0.444557   \n",
              "wt2  9.368340 -2.016788 -1.639071 -1.116859  1.320534 -0.408825  0.853259   \n",
              "wt3  9.067209 -2.424317 -1.699114 -0.536109 -1.270998  0.995621  0.157821   \n",
              "wt4  9.188027  1.840273  2.432344 -0.072838  0.477635  2.032376 -0.332892   \n",
              "wt5  9.889006  3.719010 -0.289633 -1.562849 -0.481887 -1.471575 -0.214616   \n",
              "\n",
              "          PC8       PC9          PC10  \n",
              "wt1 -0.162252 -0.065616 -2.869424e-15  \n",
              "wt2  0.702766 -0.842858 -5.632367e-16  \n",
              "wt3 -0.541584  0.920974  1.974622e-16  \n",
              "wt4  0.467646 -0.192333 -5.041886e-16  \n",
              "wt5 -0.469610  0.171066  7.575777e-16  "
            ]
          },
          "metadata": {
            "tags": []
          },
          "execution_count": 36
        }
      ]
    },
    {
      "metadata": {
        "id": "eOOFxRtwK0De",
        "colab_type": "code",
        "outputId": "f1cad8df-c9c5-4e6f-f47b-1cbe47cc31dd",
        "colab": {
          "base_uri": "https://localhost:8080/",
          "height": 295
        }
      },
      "cell_type": "code",
      "source": [
        "plt.scatter(pca_df.PC1, pca_df.PC2)\n",
        "plt.title('My PCA Graph')\n",
        "plt.xlabel('PC1 : {0}%'.format(per_var[0]))\n",
        "plt.ylabel('PC2 : {0}%'.format(per_var[1]))\n",
        "\n",
        "for sample in pca_df.index:\n",
        "  plt.annotate(sample, (pca_df.PC1.loc[sample], pca_df.PC2.loc[sample])) \n",
        "  \n",
        "plt.show()"
      ],
      "execution_count": 0,
      "outputs": [
        {
          "output_type": "display_data",
          "data": {
            "image/png": "[encoded data removed]",
            "text/plain": [
              "<Figure size 432x288 with 1 Axes>"
            ]
          },
          "metadata": {
            "tags": []
          }
        }
      ]
    },
    {
      "metadata": {
        "id": "2jwCvx9CMaJB",
        "colab_type": "text"
      },
      "cell_type": "markdown",
      "source": [
        "ko와 wt가 매우 잘 나뉘어진 것을 확인할 수 있다.\n",
        "\n",
        "##5. Loading Score 살펴보기\n",
        "\n",
        "* 어떤 gene이 x축을 따라 두개의 클러스터로 나누는데 가장 큰 영향을 끼쳤을까?"
      ]
    },
    {
      "metadata": {
        "id": "qvqo5syOMeK3",
        "colab_type": "code",
        "outputId": "a4ad4879-72b3-4b1f-f12c-e8a90013a6cb",
        "colab": {
          "base_uri": "https://localhost:8080/",
          "height": 215
        }
      },
      "cell_type": "code",
      "source": [
        "loading_scores = pd.Series(pca.components_[0], index = genes) # PCs  are zero-indexe, so PC1 = 0\n",
        "sorted_loading_scores = loading_scores.abs().sort_values(ascending = False)\n",
        "\n",
        "top_10_genes = sorted_loading_scores[0:10].index.values\n",
        "print(loading_scores[top_10_genes])"
      ],
      "execution_count": 0,
      "outputs": [
        {
          "output_type": "stream",
          "text": [
            "gene91    0.107261\n",
            "gene56   -0.107246\n",
            "gene35    0.107241\n",
            "gene25    0.107236\n",
            "gene70    0.107223\n",
            "gene96    0.107219\n",
            "gene82   -0.107218\n",
            "gene9     0.107210\n",
            "gene21   -0.107202\n",
            "gene93    0.107195\n",
            "dtype: float64\n"
          ],
          "name": "stdout"
        }
      ]
    },
    {
      "metadata": {
        "id": "evoHYmUSLj0A",
        "colab_type": "code",
        "outputId": "27d13412-ba6f-45e5-d866-3eb57b2f27a2",
        "colab": {
          "base_uri": "https://localhost:8080/",
          "height": 35
        }
      },
      "cell_type": "code",
      "source": [
        ""
      ],
      "execution_count": 0,
      "outputs": [
        {
          "output_type": "execute_result",
          "data": {
            "text/plain": [
              "86.8"
            ]
          },
          "metadata": {
            "tags": []
          },
          "execution_count": 40
        }
      ]
    },
    {
      "metadata": {
        "id": "3nh0j05GL4_5",
        "colab_type": "text"
      },
      "cell_type": "markdown",
      "source": [
        ""
      ]
    }
  ]
}