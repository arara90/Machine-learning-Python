{
  "nbformat": 4,
  "nbformat_minor": 0,
  "metadata": {
    "colab": {
      "name": "ch9_Tensorflow.ipynb",
      "version": "0.3.2",
      "provenance": [],
      "collapsed_sections": [],
      "include_colab_link": true
    },
    "kernelspec": {
      "name": "python3",
      "display_name": "Python 3"
    }
  },
  "cells": [
    {
      "cell_type": "markdown",
      "metadata": {
        "id": "view-in-github",
        "colab_type": "text"
      },
      "source": [
        "<a href=\"https://colab.research.google.com/github/arara90/Python-Machine-learning/blob/master/ch9_Tensorflow.ipynb\" target=\"_parent\"><img src=\"https://colab.research.google.com/assets/colab-badge.svg\" alt=\"Open In Colab\"/></a>"
      ]
    },
    {
      "metadata": {
        "id": "emj4Lh_anKnz",
        "colab_type": "text"
      },
      "cell_type": "markdown",
      "source": [
        "#텐서플로\n",
        "* 수치 계산을 위한 오픈소스 소프트웨어 라이브러리로 대규모 머신 러닝에 맞춰 세밀하게 튜닝\n",
        "* 파이썬으로 계산 그래프 정의 -> 최적화된 C++ 코드 사용해 효율적으로 실행\n",
        "* 계산 그래프를 여러 부분으로 나누어 여러 CPU or GPU에서 병렬로 실행\n",
        "* 분산 컴퓨팅 지원\n",
        "\n",
        "\n",
        "## * 텐서플로 프로그램\n",
        "1. 구성 : 계산 그래프 만들기\n",
        "2. 실행 : 그래프 실행 \n",
        "\n",
        "## 1. 계산 그래프 만들어 세션에서 실행하기\n",
        "\n",
        "### [구성] 계산 그래프 만들기\n",
        "* 다음 코드는 실제로 어떠한 계산도 수행하지 않는다. 단지, 계산 그래프만 만든다. (변수 초기화도 X)"
      ]
    },
    {
      "metadata": {
        "id": "KOKyNXXNnxUz",
        "colab_type": "code",
        "colab": {
          "base_uri": "https://localhost:8080/",
          "height": 91
        },
        "outputId": "016d2239-738b-4cd4-d278-07492e689d19"
      },
      "cell_type": "code",
      "source": [
        "import tensorflow as tf\n",
        "x = tf.Variable(3, name = 'x')\n",
        "y = tf.Variable(4, name = 'y')\n",
        "f= x*x*y + y + 2 "
      ],
      "execution_count": 1,
      "outputs": [
        {
          "output_type": "stream",
          "text": [
            "WARNING:tensorflow:From /usr/local/lib/python3.6/dist-packages/tensorflow/python/framework/op_def_library.py:263: colocate_with (from tensorflow.python.framework.ops) is deprecated and will be removed in a future version.\n",
            "Instructions for updating:\n",
            "Colocations handled automatically by placer.\n"
          ],
          "name": "stdout"
        }
      ]
    },
    {
      "metadata": {
        "id": "-HRpI3D_oSBG",
        "colab_type": "text"
      },
      "cell_type": "markdown",
      "source": [
        "### [실행] 계산 그래프 평가 \n",
        "> **1) ** 세션 시작 \n",
        ">** 2)** 변수 초기화 \n",
        ">** 3)** f 평가 (실행)\n",
        ">**4)** 세션종료"
      ]
    },
    {
      "metadata": {
        "id": "-rdWB4V7oBRN",
        "colab_type": "code",
        "colab": {
          "base_uri": "https://localhost:8080/",
          "height": 35
        },
        "outputId": "6c1ac709-8b94-4006-b7d4-6d0ea83901d9"
      },
      "cell_type": "code",
      "source": [
        "sess = tf.Session()      # 세션시작\n",
        "sess.run(x.initializer)  # 변수초기화\n",
        "sess.run(y.initializer)\n",
        "result = sess.run(f)     # 평가 (실행)\n",
        "print(result)\n",
        " \n",
        "sess.close()             # 세션종료"
      ],
      "execution_count": 5,
      "outputs": [
        {
          "output_type": "stream",
          "text": [
            "42\n"
          ],
          "name": "stdout"
        }
      ]
    },
    {
      "metadata": {
        "id": "tfXz41fhpH_b",
        "colab_type": "text"
      },
      "cell_type": "markdown",
      "source": [
        "#### with 사용"
      ]
    },
    {
      "metadata": {
        "id": "Rf4IxzUHpJ__",
        "colab_type": "code",
        "colab": {
          "base_uri": "https://localhost:8080/",
          "height": 35
        },
        "outputId": "4c66871c-56f8-42af-ba2b-e37647d6f025"
      },
      "cell_type": "code",
      "source": [
        "with tf.Session() as sess : #with문에서 선언한 세션이 기본 세션\n",
        "  x.initializer.run()       # tf.get_default_session().run(f)\n",
        "  y.initializer.run()\n",
        "  result = f.eval()         #with block이 끝남과 동시에 세션 자동 종료\n",
        "  \n",
        "result"
      ],
      "execution_count": 4,
      "outputs": [
        {
          "output_type": "execute_result",
          "data": {
            "text/plain": [
              "42"
            ]
          },
          "metadata": {
            "tags": []
          },
          "execution_count": 4
        }
      ]
    },
    {
      "metadata": {
        "id": "YwViyFmvp3Px",
        "colab_type": "text"
      },
      "cell_type": "markdown",
      "source": [
        "#### global_variables_initializer() 함수\n",
        "* 초기화를 바로 수행하지 않고 계산 그래프가 실행될 때 모든 변수를 초기화할 노드 생성"
      ]
    },
    {
      "metadata": {
        "id": "Is-1s_Cbo3qo",
        "colab_type": "code",
        "colab": {}
      },
      "cell_type": "code",
      "source": [
        "init = tf.global_variables_initializer() #init노드 준비\n",
        "with tf.Session() as sess : \n",
        "  init.run() #실제 모든 변수를 초기화\n",
        "  result = f.eval()\n",
        "  \n",
        "  print(result)"
      ],
      "execution_count": 0,
      "outputs": []
    },
    {
      "metadata": {
        "id": "jloe4mj-qVwN",
        "colab_type": "text"
      },
      "cell_type": "markdown",
      "source": [
        "#### InteractiveSession\n",
        "- 주피터, 파이썬 셸에서 편리\n",
        "- InteractiveSession이 만들어질 때 자동으로 자신을 기본 세션으로 지정한다. -> with 블록 필요없음.\n",
        "- 사용이 끝나면 수동으로 종료해줘야 함\n"
      ]
    },
    {
      "metadata": {
        "id": "6aCbwO4lqvzx",
        "colab_type": "code",
        "colab": {
          "base_uri": "https://localhost:8080/",
          "height": 91
        },
        "outputId": "6ef7cf4e-e557-4ec7-d9c8-77df6f5d95d5"
      },
      "cell_type": "code",
      "source": [
        "sess = tf.InteractiveSession()\n",
        "init.run()\n",
        "result = f.eval()\n",
        "print(result)\n",
        "sess.close()"
      ],
      "execution_count": 10,
      "outputs": [
        {
          "output_type": "stream",
          "text": [
            "42\n"
          ],
          "name": "stdout"
        },
        {
          "output_type": "stream",
          "text": [
            "/usr/local/lib/python3.6/dist-packages/tensorflow/python/client/session.py:1702: UserWarning: An interactive session is already active. This can cause out-of-memory errors in some cases. You must explicitly call `InteractiveSession.close()` to release resources held by the other session(s).\n",
            "  warnings.warn('An interactive session is already active. This can '\n"
          ],
          "name": "stderr"
        }
      ]
    },
    {
      "metadata": {
        "id": "oyKxHTFGre8q",
        "colab_type": "text"
      },
      "cell_type": "markdown",
      "source": [
        "## 2. 계산 그래프 관리\n",
        "* 노드를 만들면 자동으로 기본 계산 그래프에 추가"
      ]
    },
    {
      "metadata": {
        "id": "0aOTrCAzrlr7",
        "colab_type": "code",
        "colab": {
          "base_uri": "https://localhost:8080/",
          "height": 35
        },
        "outputId": "265df3b8-1cc7-418a-c352-38cac7e61025"
      },
      "cell_type": "code",
      "source": [
        "\n",
        "x1 = tf.Variable(1)\n",
        "x1.graph is tf.get_default_graph()"
      ],
      "execution_count": 12,
      "outputs": [
        {
          "output_type": "execute_result",
          "data": {
            "text/plain": [
              "True"
            ]
          },
          "metadata": {
            "tags": []
          },
          "execution_count": 12
        }
      ]
    },
    {
      "metadata": {
        "id": "ivOwrh35ruOa",
        "colab_type": "code",
        "colab": {
          "base_uri": "https://localhost:8080/",
          "height": 35
        },
        "outputId": "80506ca4-97c7-44f3-8c62-9ad5e76b5986"
      },
      "cell_type": "code",
      "source": [
        "# 독립적인 계산 그래프를 여러 개 만들깨, 새로운 Graph 객체를 만들어 with 블록 안에서 임시로 이를 기본 계산 그래프로 사용한다.\n",
        "graph = tf.Graph()\n",
        "\n",
        "with graph.as_default():\n",
        "  x2 = tf.Variable(2)\n",
        "  \n",
        "x2.graph is graph\n",
        "\n",
        "#tf.reset_default_graph() : 기본 그래프 초기화"
      ],
      "execution_count": 13,
      "outputs": [
        {
          "output_type": "execute_result",
          "data": {
            "text/plain": [
              "True"
            ]
          },
          "metadata": {
            "tags": []
          },
          "execution_count": 13
        }
      ]
    },
    {
      "metadata": {
        "id": "1eKd5mE1snl6",
        "colab_type": "text"
      },
      "cell_type": "markdown",
      "source": [
        "### 3. 노드 값의 생애주기\n",
        "* 한 노드를 평가할 때 텐서플로는 이 노드가 의존하고 있는 다른 노드들을 자동으로 찾아 먼저 평가\n",
        "* 다음 코드에서 y와 z를 평가하기 위해 x를 평가해야 한다는 것을 감지\n",
        "* 이전에 평가된 w와 x를 재사용 하지 않는다. -> w와 x를 두번 평가함"
      ]
    },
    {
      "metadata": {
        "id": "xGsE6fjAsvR9",
        "colab_type": "code",
        "colab": {
          "base_uri": "https://localhost:8080/",
          "height": 53
        },
        "outputId": "f930698f-e948-4caf-9641-37f0ed8a655f"
      },
      "cell_type": "code",
      "source": [
        "w = tf.constant(3)\n",
        "x = w+2\n",
        "y = x+5\n",
        "z = x*3\n",
        "\n",
        "with tf.Session() as sess:\n",
        "  print(y.eval()) #10\n",
        "  print(z.eval()) #15"
      ],
      "execution_count": 15,
      "outputs": [
        {
          "output_type": "stream",
          "text": [
            "10\n",
            "15\n"
          ],
          "name": "stdout"
        }
      ]
    },
    {
      "metadata": {
        "id": "0Dh7yw4FtTJT",
        "colab_type": "text"
      },
      "cell_type": "markdown",
      "source": [
        "* 모든 **노드의 값**은 **계산 그래프 실행 간에 유지 되지 않는다**.\n",
        "* 예외적으로, **변수**는 그래프 실행간에서 **세션에 의해 유지**된다.   \n",
        "변수는 초기화될 때 일생이 시작되고, 세션이 종료될 때까지 남아있는다.\n",
        "\n",
        "#### 한 번의 그래프 실행에서 y와 z를 모두 평가하는 코드"
      ]
    },
    {
      "metadata": {
        "id": "pwHQruIyuDAJ",
        "colab_type": "code",
        "colab": {
          "base_uri": "https://localhost:8080/",
          "height": 53
        },
        "outputId": "869f67d6-b1e6-4893-c723-d37f8ef37361"
      },
      "cell_type": "code",
      "source": [
        "with tf.Session() as sess:\n",
        "  y_val, z_val = sess.run([y,z])\n",
        "  print(y_val) #10\n",
        "  print(z_val) #15\n"
      ],
      "execution_count": 16,
      "outputs": [
        {
          "output_type": "stream",
          "text": [
            "10\n",
            "15\n"
          ],
          "name": "stdout"
        }
      ]
    },
    {
      "metadata": {
        "id": "DnPMTVExurqZ",
        "colab_type": "text"
      },
      "cell_type": "markdown",
      "source": [
        "##3. 텐서플로를 이용한 선형 회귀\n",
        "* 소스연산 : 상수와 변수 연산은 입력이 없다.\n",
        "* tensor : 입력과 출력이 되는 다차원 배열\n",
        ">  * 파이썬 API에서 tensor는 넘파이 ndarray로 나타난다. (텐서를 평가한 결과가 넘파이 배열로 반환)  \n",
        ">  * 보통은 실수(float)로 채워지지만, 문자열을 저장할수도 있다.  \n",
        "  \n",
        "\n",
        "* 아래 코드의 장점은?\n",
        ">  * numpy를 통해 정규방정식을 직접 계산하는 대신, (GPU버전의 텐서플로를 설치한 후) **GPU**에서 실행한다는 것이다."
      ]
    },
    {
      "metadata": {
        "id": "6bSqwX2swGvu",
        "colab_type": "code",
        "colab": {}
      },
      "cell_type": "code",
      "source": [
        "import numpy as np\n",
        "from sklearn.datasets import fetch_california_housing\n",
        "\n",
        "housing = fetch_california_housing()\n",
        "m, n = housing.data.shape\n",
        "housing_data_plus_bias = np.c_[np.ones((m,1)), housing.data]\n",
        "#c_ : column추가 "
      ],
      "execution_count": 0,
      "outputs": []
    },
    {
      "metadata": {
        "id": "7m_Sz_N1xt7S",
        "colab_type": "code",
        "colab": {}
      },
      "cell_type": "code",
      "source": [
        "X= tf.constant(housing_data_plus_bias, dtype=tf.float32, name=\"X\" )\n",
        "y = tf.constant(housing.target.reshape(-1,1), dtype=tf.float32, name=\"y\" )\n",
        "XT = tf.transpose(X) #전치\n",
        "theta = tf.matmul(tf.matmul(tf.matrix_inverse(tf.matmul(XT,X)),XT),y) #Matmul : 점곱, matrix_inverse : 역행렬\n",
        "\n",
        "with tf.Session() as sess:\n",
        "  theta_value = theta.eval()\n",
        "\n"
      ],
      "execution_count": 0,
      "outputs": []
    },
    {
      "metadata": {
        "id": "pQI4_dc8zf1T",
        "colab_type": "text"
      },
      "cell_type": "markdown",
      "source": [
        "## 4. 경사하강법 구현\n",
        "#### 4-1) 직접그래디언트계산\n",
        "* random_uniform() : 난수를 담은 tensor 생성하는 노드를 그래프에 생성 , 크기와 난수의 범위 입력 ( numpy의 rand() )  \n",
        "* assign() : 새로운 변수에 새로운 값을 할당하는 노드 생성 \n",
        "> * 여기서는 배치 경사 하강법의 스텝을 구현\n",
        "* 반복루프는 훈련단계를 계속 반복해서 실행 (n_epoch만큼), 100번 반복마다 현재의 평균 제곱 에러를 출력 (mse), mse는 매 반복에서 값이 줄어들어야 함.\n"
      ]
    },
    {
      "metadata": {
        "id": "Ep-D-pjk0IZD",
        "colab_type": "code",
        "colab": {
          "base_uri": "https://localhost:8080/",
          "height": 197
        },
        "outputId": "8257dc24-370b-415a-b309-a330b1612c0e"
      },
      "cell_type": "code",
      "source": [
        "from sklearn.preprocessing import StandardScaler\n",
        "scaler = StandardScaler()\n",
        "scaled_housing_data = scaler.fit_transform(housing.data)\n",
        "scaled_housing_data_plus_bias = np.c_[np.ones((m, 1)), scaled_housing_data]\n",
        "\n",
        "\n",
        "n_epochs = 1000\n",
        "learning_rate = 0.01\n",
        "\n",
        "x = tf.constant(scaled_housing_data_plus_bias, dtype=tf.float32, name=\"X\")\n",
        "y = tf.constant(housing.target.reshape(-1,1), dtype=tf.float32, name=\"y\" )\n",
        "theta = tf.Variable(tf.random_uniform([n+1, 1], -1.0, 1.0, seed=42), name = \"theta\")\n",
        "#seed? \n",
        "\n",
        "y_pred = tf.matmul(X, theta,name=\"predictions\")\n",
        "error = y_pred-y\n",
        "\n",
        "mse = tf.reduce_mean(tf.square(error), name = \"mse\")\n",
        "gradients = 2/m * tf.matmul(tf.transpose(X),error)\n",
        "training_op = tf.assign(theta, theta - learning_rate*gradients)\n",
        "\n",
        "init = tf.global_variables_initializer()\n",
        "\n",
        "with tf.Session() as sess : \n",
        "  sess.run(init)\n",
        "  for epoch in range(n_epochs):\n",
        "    if epoch % 100 == 0 :\n",
        "      print(\"Epoch : \", epoch, \"MSE = \" , mse.eval())\n",
        "    sess.run(training_op)\n",
        "    \n",
        "  best_theta = theta.eval()\n",
        "  \n",
        "\n"
      ],
      "execution_count": 46,
      "outputs": [
        {
          "output_type": "stream",
          "text": [
            "Epoch :  0 MSE =  2.754427\n",
            "Epoch :  100 MSE =  0.63222194\n",
            "Epoch :  200 MSE =  0.5727803\n",
            "Epoch :  300 MSE =  0.5585009\n",
            "Epoch :  400 MSE =  0.54907006\n",
            "Epoch :  500 MSE =  0.54228806\n",
            "Epoch :  600 MSE =  0.5373791\n",
            "Epoch :  700 MSE =  0.533822\n",
            "Epoch :  800 MSE =  0.53124255\n",
            "Epoch :  900 MSE =  0.5293705\n"
          ],
          "name": "stdout"
        }
      ]
    },
    {
      "metadata": {
        "id": "pckYiFwx6aI7",
        "colab_type": "text"
      },
      "cell_type": "markdown",
      "source": [
        "\n",
        "#### 4-2) 자동미분 사용\n",
        "* gradients = 2/m * tf.matmul(tf.transpose(X),error) -> gradients = tf.**gradients**(mse,[theta])[0]\n",
        "* 입력이 많고 출력이 절을 때 효율적이고 정확한 방법"
      ]
    },
    {
      "metadata": {
        "id": "M5o6TARNym6k",
        "colab_type": "code",
        "colab": {
          "base_uri": "https://localhost:8080/",
          "height": 197
        },
        "outputId": "fb1a8317-bc9e-4e47-ab8b-a848ac5d9dea"
      },
      "cell_type": "code",
      "source": [
        "n_epochs = 1000\n",
        "learning_rate = 0.01\n",
        "\n",
        "x = tf.constant(scaled_housing_data_plus_bias, dtype=tf.float32, name=\"X\")\n",
        "y = tf.constant(housing.target.reshape(-1,1), dtype=tf.float32, name=\"y\" )\n",
        "theta = tf.Variable(tf.random_uniform([n+1, 1], -1.0, 1.0, seed=42), name = \"theta\")\n",
        "#seed? \n",
        "\n",
        "y_pred = tf.matmul(X, theta,name=\"predictions\")\n",
        "error = y_pred-y\n",
        "\n",
        "mse = tf.reduce_mean(tf.square(error), name = \"mse\")\n",
        "gradients = tf.gradients(mse,[theta])[0]\n",
        "training_op = tf.assign(theta, theta - learning_rate*gradients)\n",
        "\n",
        "init = tf.global_variables_initializer()\n",
        "\n",
        "with tf.Session() as sess : \n",
        "  sess.run(init)\n",
        "  for epoch in range(n_epochs):\n",
        "    if epoch % 100 == 0 :\n",
        "      print(\"Epoch : \", epoch, \"MSE = \" , mse.eval())\n",
        "    sess.run(training_op)\n",
        "    \n",
        "  best_theta = theta.eval()\n",
        "  \n",
        "\n"
      ],
      "execution_count": 61,
      "outputs": [
        {
          "output_type": "stream",
          "text": [
            "Epoch :  0 MSE =  9.882093\n",
            "Epoch :  100 MSE =  1.0927494\n",
            "Epoch :  200 MSE =  0.8121932\n",
            "Epoch :  300 MSE =  0.7291963\n",
            "Epoch :  400 MSE =  0.6724913\n",
            "Epoch :  500 MSE =  0.63163954\n",
            "Epoch :  600 MSE =  0.6021057\n",
            "Epoch :  700 MSE =  0.5807405\n",
            "Epoch :  800 MSE =  0.56527746\n",
            "Epoch :  900 MSE =  0.55408037\n"
          ],
          "name": "stdout"
        }
      ]
    },
    {
      "metadata": {
        "id": "33n_toCZ7I24",
        "colab_type": "text"
      },
      "cell_type": "markdown",
      "source": [
        "#### 4-3) 옵티마이저 사용\n",
        "* gradients = tf.gradients(mse,[theta])[0]  \n",
        "training_op = tf.assign(theta, theta - learning_rate*gradients)  \n",
        "-> opt = tf.train.**GradientDescentOptimizer**(learning_rate=learning_rate)\n",
        "training_op = opt.minimize(mse)\n",
        "\n",
        "* 이 외에도 MomentumOptimizer등 다양한 옵티마이저가 있음"
      ]
    },
    {
      "metadata": {
        "id": "fs-9iWbJ7O1o",
        "colab_type": "code",
        "colab": {
          "base_uri": "https://localhost:8080/",
          "height": 197
        },
        "outputId": "4064e01c-48fa-40d7-b754-d395fb55e23b"
      },
      "cell_type": "code",
      "source": [
        "n_epochs = 1000\n",
        "learning_rate = 0.01\n",
        "\n",
        "x = tf.constant(scaled_housing_data_plus_bias, dtype=tf.float32, name=\"X\")\n",
        "y = tf.constant(housing.target.reshape(-1,1), dtype=tf.float32, name=\"y\" )\n",
        "theta = tf.Variable(tf.random_uniform([n+1, 1], -1.0, 1.0, seed=42), name = \"theta\")\n",
        "#seed? \n",
        "\n",
        "y_pred = tf.matmul(X, theta,name=\"predictions\")\n",
        "error = y_pred-y\n",
        "\n",
        "mse = tf.reduce_mean(tf.square(error), name = \"mse\")\n",
        "\n",
        "########\n",
        "\n",
        "opt = tf.train.GradientDescentOptimizer(learning_rate=learning_rate)\n",
        "training_op = opt.minimize(mse)\n",
        "\n",
        "#########\n",
        "\n",
        "init = tf.global_variables_initializer()\n",
        "\n",
        "with tf.Session() as sess : \n",
        "  sess.run(init)\n",
        "  for epoch in range(n_epochs):\n",
        "    if epoch % 100 == 0 :\n",
        "      print(\"Epoch : \", epoch, \"MSE = \" , mse.eval())\n",
        "    sess.run(training_op)\n",
        "    \n",
        "  best_theta = theta.eval()"
      ],
      "execution_count": 62,
      "outputs": [
        {
          "output_type": "stream",
          "text": [
            "Epoch :  0 MSE =  9.882093\n",
            "Epoch :  100 MSE =  1.0927494\n",
            "Epoch :  200 MSE =  0.8121932\n",
            "Epoch :  300 MSE =  0.7291963\n",
            "Epoch :  400 MSE =  0.6724913\n",
            "Epoch :  500 MSE =  0.63163954\n",
            "Epoch :  600 MSE =  0.60210574\n",
            "Epoch :  700 MSE =  0.5807405\n",
            "Epoch :  800 MSE =  0.56527746\n",
            "Epoch :  900 MSE =  0.55408037\n"
          ],
          "name": "stdout"
        }
      ]
    },
    {
      "metadata": {
        "id": "XqWQF-a-71TR",
        "colab_type": "text"
      },
      "cell_type": "markdown",
      "source": [
        "## 5. 훈련 알고리즘에 데이터 주입\n",
        "* placeholder 노드 : 훈련을 하는 동안 텐서플로에 훈련 데이터를 전달하기 위해 사용\n",
        " > * 실제로는 아무런 계산도 하지 않는 특수한 노드, 주입한 데이터를 출력만 한다.\n",
        " > *  매 반복마다 X와 y를 다음번 미니 배치로 바꿔야할 때 사용\n",
        " > * 출력 텐서의 데이터 타입을 지정, 부가적으로 크기 지정하여 강제할 수 있음. (차원이 None이면 어떤 크기도 가능)\n",
        " "
      ]
    },
    {
      "metadata": {
        "id": "eEHgVElc8d6L",
        "colab_type": "code",
        "colab": {
          "base_uri": "https://localhost:8080/",
          "height": 71
        },
        "outputId": "9b4a1e07-bb66-464b-c226-931cd8f4ede3"
      },
      "cell_type": "code",
      "source": [
        "A = tf.placeholder(tf.float32, shape=(None,3))\n",
        "B = A + 5\n",
        "with tf.Session() as sess:\n",
        "  B_val_1 = B.eval(feed_dict = {A: [[1,2,3]]})\n",
        "  B_val_2 = B.eval(feed_dict = {A: [[4,5,6],[7,8,9]]})\n",
        "  \n",
        "print(B_val_1)\n",
        "print(B_val_2)"
      ],
      "execution_count": 66,
      "outputs": [
        {
          "output_type": "stream",
          "text": [
            "[[6. 7. 8.]]\n",
            "[[ 9. 10. 11.]\n",
            " [12. 13. 14.]]\n"
          ],
          "name": "stdout"
        }
      ]
    },
    {
      "metadata": {
        "id": "ENxbTkXf8r-G",
        "colab_type": "code",
        "colab": {
          "base_uri": "https://localhost:8080/",
          "height": 179
        },
        "outputId": "f28e7627-b797-4128-e187-447745ac8d46"
      },
      "cell_type": "code",
      "source": [
        "n_epochs = 1000\n",
        "learning_rate = 0.01\n",
        "\n",
        "X = tf.placeholder(tf.float32, shape=(None, n + 1), name=\"X\")\n",
        "y = tf.placeholder(tf.float32, shape=(None, 1), name=\"y\")\n",
        "\n",
        "theta = tf.Variable(tf.random_uniform([n + 1, 1], -1.0, 1.0, seed=42), name=\"theta\")\n",
        "y_pred = tf.matmul(X, theta, name=\"predictions\")\n",
        "error = y_pred - y\n",
        "mse = tf.reduce_mean(tf.square(error), name=\"mse\")\n",
        "optimizer = tf.train.GradientDescentOptimizer(learning_rate=learning_rate)\n",
        "training_op = optimizer.minimize(mse)\n",
        "\n",
        "init = tf.global_variables_initializer()\n",
        "n_epochs = 10\n",
        "batch_size = 100\n",
        "n_batches = int(np.ceil(m / batch_size))\n",
        "\n",
        "def fetch_batch(epoch, batch_index, batch_size):\n",
        "    np.random.seed(epoch * n_batches + batch_index)  # not shown in the book\n",
        "    indices = np.random.randint(m, size=batch_size)  # not shown\n",
        "    X_batch = scaled_housing_data_plus_bias[indices] # not shown\n",
        "    y_batch = housing.target.reshape(-1, 1)[indices] # not shown\n",
        "    return X_batch, y_batch\n",
        "\n",
        "with tf.Session() as sess:\n",
        "    sess.run(init)\n",
        "\n",
        "    for epoch in range(n_epochs):\n",
        "        for batch_index in range(n_batches):\n",
        "            X_batch, y_batch = fetch_batch(epoch, batch_index, batch_size)\n",
        "            sess.run(training_op, feed_dict={X: X_batch, y: y_batch})\n",
        "\n",
        "    best_theta = theta.eval()\n",
        "    \n",
        "    \n",
        "best_theta"
      ],
      "execution_count": 70,
      "outputs": [
        {
          "output_type": "execute_result",
          "data": {
            "text/plain": [
              "array([[ 2.0699933 ],\n",
              "       [ 0.8348224 ],\n",
              "       [ 0.12521975],\n",
              "       [-0.2431544 ],\n",
              "       [ 0.3184215 ],\n",
              "       [ 0.00631773],\n",
              "       [-0.01373932],\n",
              "       [-0.8401051 ],\n",
              "       [-0.8045908 ]], dtype=float32)"
            ]
          },
          "metadata": {
            "tags": []
          },
          "execution_count": 70
        }
      ]
    },
    {
      "metadata": {
        "id": "ETKcbN3S9n3c",
        "colab_type": "code",
        "colab": {}
      },
      "cell_type": "code",
      "source": [
        ""
      ],
      "execution_count": 0,
      "outputs": []
    }
  ]
}